{
 "cells": [
  {
   "cell_type": "code",
   "execution_count": null,
   "id": "ae1702e3",
   "metadata": {},
   "outputs": [],
   "source": [
    "import cv2 as cv # OpenCV computer vision library\n",
    "import numpy as np # Scientific computing library \n",
    "import networkx as nx\n",
    "import matplotlib.pyplot as plt\n",
    "import json\n",
    "import gtts\n",
    "import os\n",
    "from playsound import playsound\n",
    "import speech_recognition as sr\n",
    "from fuzzywuzzy import fuzz"
   ]
  },
  {
   "cell_type": "markdown",
   "id": "0b79241b",
   "metadata": {},
   "source": [
    "### This function is used to detect all the objects in the scene"
   ]
  },
  {
   "cell_type": "code",
   "execution_count": null,
   "id": "ab2a9492",
   "metadata": {},
   "outputs": [],
   "source": [
    "def detectAllObjects():\n",
    "    \n",
    "    #All the objects present in COCO dataset\n",
    "    classes = [\"background\", \"person\", \"bicycle\", \"car\", \"motorcycle\",\n",
    "      \"airplane\", \"bus\", \"train\", \"truck\", \"boat\", \"traffic light\", \"fire hydrant\",\n",
    "      \"unknown\", \"stop sign\", \"parking meter\", \"bench\", \"bird\", \"cat\", \"dog\", \"horse\",\n",
    "      \"sheep\", \"cow\", \"elephant\", \"bear\", \"zebra\", \"giraffe\", \"unknown\", \"backpack\",\n",
    "      \"umbrella\", \"unknown\", \"unknown\", \"handbag\", \"tie\", \"suitcase\", \"frisbee\", \"skis\",\n",
    "      \"snowboard\", \"sports ball\", \"kite\", \"baseball bat\", \"baseball glove\", \"skateboard\",\n",
    "      \"surfboard\", \"tennis racket\", \"bottle\", \"unknown\", \"wine glass\", \"cup\", \"fork\", \"knife\",\n",
    "      \"spoon\", \"bowl\", \"banana\", \"apple\", \"sandwich\", \"orange\", \"broccoli\", \"carrot\", \"hot dog\",\n",
    "      \"pizza\", \"donut\", \"cake\", \"chair\", \"couch\", \"potted plant\", \"bed\", \"unknown\", \"dining table\",\n",
    "      \"unknown\", \"unknown\", \"toilet\", \"unknown\", \"tv\", \"laptop\", \"mouse\", \"remote\", \"keyboard\",\n",
    "      \"cell phone\", \"microwave\", \"oven\", \"toaster\", \"sink\", \"refrigerator\", \"unknown\",\n",
    "      \"book\", \"clock\", \"vase\", \"scissors\", \"teddy bear\", \"hair drier\", \"toothbrush\" ]\n",
    "\n",
    "    # Colors we will use for the object labels\n",
    "    colors = np.random.uniform(0, 255, size=(len(classes), 3))\n",
    "\n",
    "    cam = cv.VideoCapture(0)\n",
    "    \n",
    "    #using trained model, which can be replaced by any object detection model\n",
    "    pb  = 'frozen_inference_graph.pb'\n",
    "    pbt = 'ssd_inception_v2_coco_2017_11_17.pbtxt'\n",
    "\n",
    "    # Read the neural network\n",
    "    cvNet = cv.dnn.readNetFromTensorflow(pb,pbt)   \n",
    "    objectList = set() \n",
    "\n",
    "    # Reading the frame from webcam\n",
    "    ret_val, img = cam.read()\n",
    "    rows = img.shape[0]\n",
    "    cols = img.shape[1]\n",
    "    cvNet.setInput(cv.dnn.blobFromImage(img, size=(300, 300), swapRB=True, crop=False))\n",
    "\n",
    "    # Running object detection\n",
    "    cvOut = cvNet.forward()\n",
    "    # Go through each object detected and label it\n",
    "    detected_list = list()\n",
    "    for detection in cvOut[0,0,:,:]:\n",
    "        score = float(detection[2])\n",
    "        if score > 0.3:\n",
    "            ids = int(detection[1])  \n",
    "            #Adding check to detect only specified objects from the list\n",
    "            if classes[ids] == 'banana' or classes[ids] == 'person' or classes[ids] == 'knife' or classes[ids] == 'fork' or classes[ids] == 'bottle' or classes[ids] == 'cup' or classes[ids] == 'apple' or classes[ids] == 'cell phone' or classes[ids] == 'laptop' or classes[ids] == 'book':\n",
    "                detected_list.append(classes[ids])\n",
    "                \n",
    "    # releasing resources\n",
    "    cam.release()\n",
    "\n",
    "    # Close down OpenCV\n",
    "    cv.destroyAllWindows()\n",
    "    return detected_list"
   ]
  },
  {
   "cell_type": "markdown",
   "id": "48ed51e4",
   "metadata": {},
   "source": [
    "### This function contains a simple sentence generation logic to speak about objects in the scene"
   ]
  },
  {
   "cell_type": "code",
   "execution_count": null,
   "id": "60474a95",
   "metadata": {},
   "outputs": [],
   "source": [
    "def speakingObjectsInScene(detectedObjects):\n",
    "        sentence = \"I can see\"\n",
    "        vowelList = ['a','e','i','o','u']\n",
    "        tempStr =\" a \"\n",
    "        size = len(detectedObjects)\n",
    "        if(size > 1) :\n",
    "            itemCounter = 1\n",
    "            for i in detectedObjects :\n",
    "                if i[0] in vowelList:\n",
    "                        tempStr = \" an \"\n",
    "                if itemCounter == 1:\n",
    "                    sentence = sentence + tempStr+i\n",
    "                elif itemCounter == size :\n",
    "                    sentence = sentence + \" and\"+ tempStr +i+\".\"\n",
    "                else : sentence = sentence = sentence + \",\"+tempStr+i\n",
    "                itemCounter += 1\n",
    "                tempStr = \" a \"\n",
    "        elif size == 1:\n",
    "            if detectedObjects[0][0] in vowelList:\n",
    "                tempStr = \" an \"\n",
    "            sentence = sentence + tempStr +detectedObjects[0]\n",
    "        else : \n",
    "            sentence = sentence + \" nothing.\"\n",
    "        #print(sentence)\n",
    "        return sentence"
   ]
  },
  {
   "cell_type": "markdown",
   "id": "19912efe",
   "metadata": {},
   "source": [
    "### This function is responsible for detecting the risks in the scene and generating a sentence"
   ]
  },
  {
   "cell_type": "code",
   "execution_count": null,
   "id": "8415d490",
   "metadata": {},
   "outputs": [],
   "source": [
    "def displayRisksInScene(detectedObjects):\n",
    "    allRisksList = nx.all_neighbors(G,\"risks\")\n",
    "    allRisksListnew = list()\n",
    "    sentenceList = list()\n",
    "    \n",
    "    for i in allRisksList:    \n",
    "        allRisksListnew.append(i)\n",
    "        \n",
    "    for i in detectedObjects:\n",
    "        nlist = nx.neighbors(G,i)\n",
    "        for j in nlist:\n",
    "            for m in allRisksListnew:\n",
    "                if j == m :\n",
    "                    sentence = i+\" \"+ G.get_edge_data(i,j)[\"value\"]+\" \"+j\n",
    "                    sentenceList.append(sentence)\n",
    "    sentence = \"\"\n",
    "    size = len(sentenceList)\n",
    "    if(size > 1) :\n",
    "        itemCounter = 1\n",
    "        for i in sentenceList :\n",
    "            if itemCounter == 1:\n",
    "                sentence = sentence + i\n",
    "            elif itemCounter == size :\n",
    "                sentence = sentence + \" and \"+i+\".\"\n",
    "            else : sentence = sentence = sentence + \", \"+i\n",
    "            itemCounter += 1\n",
    "        #print(sentence)\n",
    "    elif size == 1: \n",
    "        sentence = sentence + sentenceList[0]+\".\"\n",
    "        #print(sentence)\n",
    "    \n",
    "    electronicsPresent = False\n",
    "    for i in nx.all_neighbors(G,\"electronic\"):\n",
    "        #print(i,detectedObjects)\n",
    "        if i in detectedObjects:\n",
    "            electronicsPresent = True\n",
    "            break\n",
    "    \n",
    "    consumingLiqPresent = False\n",
    "    for i in nx.all_neighbors(G,\"consuming liquids\"):\n",
    "        if i in detectedObjects:\n",
    "            consumingLiqPresent = True\n",
    "            break\n",
    "    \n",
    "    if electronicsPresent and consumingLiqPresent:\n",
    "        if sentence != \"\":\n",
    "            sentence = sentence + \" Also, I can see electronic objects, careful not to spill anything.\"\n",
    "        if sentence == \"\" :\n",
    "            sentence = sentence + \"I can see electronic objects, careful not to spill anything.\"\n",
    "    elif sentence == \"\":\n",
    "        sentence = sentence + \"I do not see any risks.\"\n",
    "    \n",
    "    \n",
    "    return sentence"
   ]
  },
  {
   "cell_type": "markdown",
   "id": "17dc32f1",
   "metadata": {},
   "source": [
    "### This function is responsible for detecting the edible items in the scene and generating a sentence"
   ]
  },
  {
   "cell_type": "code",
   "execution_count": null,
   "id": "351e88f7",
   "metadata": {},
   "outputs": [],
   "source": [
    "def displayEdiblesInScene(detectedObjects):\n",
    "    allEdibleList = nx.all_neighbors(G,\"edible\")\n",
    "    edibleList = list()\n",
    "    for i in allEdibleList:\n",
    "        for j in detectedObjects:\n",
    "            if i == j:\n",
    "                edibleList.append(i)\n",
    "    sentence = speakingObjectsInScene(edibleList)\n",
    "    return sentence"
   ]
  },
  {
   "cell_type": "markdown",
   "id": "6da67113",
   "metadata": {},
   "source": [
    "### This function is responsible for detecting the drinkable items in the scene and generating a sentence"
   ]
  },
  {
   "cell_type": "code",
   "execution_count": null,
   "id": "d258d779",
   "metadata": {},
   "outputs": [],
   "source": [
    "def displayDrinkablesInScene(detectedObjects):\n",
    "    alldrinkablesList = nx.all_neighbors(G,\"consuming liquids\")\n",
    "    drinkableList = list()\n",
    "    for i in alldrinkablesList:\n",
    "        for j in detectedObjects:\n",
    "            if i == j:\n",
    "                drinkableList.append(i)\n",
    "    sentence = speakingObjectsInScene(drinkableList)\n",
    "    return sentence"
   ]
  },
  {
   "cell_type": "markdown",
   "id": "dea2f688",
   "metadata": {},
   "source": [
    "### This function is responsible for detecting the location and generating a sentence"
   ]
  },
  {
   "cell_type": "code",
   "execution_count": null,
   "id": "6bfaac30",
   "metadata": {},
   "outputs": [],
   "source": [
    "def displayLocation(detectedObjects):\n",
    "    possibleLocationList = list()\n",
    "    if len(detectedObjects) > 0:\n",
    "        for i in detectedObjects:\n",
    "            pLoc = G.nodes[i]['probable_location']\n",
    "            if possibleLocationList.count(pLoc)==0:\n",
    "                if pLoc != \"any\":\n",
    "                    possibleLocationList.append(pLoc)\n",
    "        #print(possibleLocationList)\n",
    "        sentence = \"I am not entirely sure but based on the things I can see, you could be in \"\n",
    "        count = 1\n",
    "        for i in possibleLocationList:\n",
    "            if count==1 :\n",
    "                sentence = sentence  + i\n",
    "            else : sentence = sentence + \" or \"+i\n",
    "            count+=1\n",
    "        #print(sentence)\n",
    "    else : sentence = \"I cannot see any thing nearby to make a logical decision\"\n",
    "    return sentence"
   ]
  },
  {
   "cell_type": "markdown",
   "id": "19bec34c",
   "metadata": {},
   "source": [
    "### This function decides the function to call based on the question asked"
   ]
  },
  {
   "cell_type": "code",
   "execution_count": null,
   "id": "b91a89a5",
   "metadata": {},
   "outputs": [],
   "source": [
    "def functionCaller(functionName):\n",
    "    detectedObjects = detectAllObjects()\n",
    "    \n",
    "    if functionName == \"allObjectsInScene\": \n",
    "        say(speakingObjectsInScene(detectedObjects))\n",
    "    \n",
    "    if functionName == \"displayRisksInScene\": \n",
    "        say(displayRisksInScene(detectedObjects))\n",
    "    \n",
    "    if functionName == \"displayEdiblesInScene\": \n",
    "        say(displayEdiblesInScene(detectedObjects))\n",
    "        \n",
    "    if functionName == \"displayDrinkablesInScene\": \n",
    "        say(displayDrinkablesInScene(detectedObjects))\n",
    "    \n",
    "    if functionName == \"displayLocation\": \n",
    "        say(displayLocation(detectedObjects))\n",
    "        \n",
    "    if functionName == \"Sorry I am Unable to understand\": \n",
    "        say(\"Sorry I could not understand\")    "
   ]
  },
  {
   "cell_type": "markdown",
   "id": "62c5c61b",
   "metadata": {},
   "source": [
    "### This function is for converting Text to Speech"
   ]
  },
  {
   "cell_type": "code",
   "execution_count": null,
   "id": "1204f095",
   "metadata": {},
   "outputs": [],
   "source": [
    "def say(speech):\n",
    "    print(\"Luna: \",speech)\n",
    "    tts = gtts.gTTS(speech)\n",
    "    tts.save(\"audio.mp3\")\n",
    "    playsound(\"audio.mp3\")\n",
    "    os.remove(\"audio.mp3\")"
   ]
  },
  {
   "cell_type": "markdown",
   "id": "90ae5618",
   "metadata": {},
   "source": [
    "### This function is for converting Speech to Text"
   ]
  },
  {
   "cell_type": "code",
   "execution_count": null,
   "id": "948b409a",
   "metadata": {},
   "outputs": [],
   "source": [
    "def speechToText():\n",
    "    with sr.Microphone() as source:\n",
    "        print(\"Say something!\")\n",
    "        r = sr.Recognizer()\n",
    "        audio = r.listen(source)\n",
    "        \n",
    "    # recognize speech using Google Speech Recognition\n",
    "    try:\n",
    "        convertedSpeechToText = r.recognize_google(audio) \n",
    "        print(\"User: \" + convertedSpeechToText)\n",
    "        return convertedSpeechToText.lower()\n",
    "    except sr.UnknownValueError:\n",
    "        print(\"Speech Recognition could not understand audio\")\n",
    "        return \"thank you\"\n",
    "    except sr.RequestError as e:\n",
    "        print(\"Could not request results from Google Speech Recognition service; {0}\".format(e))"
   ]
  },
  {
   "cell_type": "markdown",
   "id": "717dc819",
   "metadata": {},
   "source": [
    "### Activation function"
   ]
  },
  {
   "cell_type": "code",
   "execution_count": null,
   "id": "394e0a14",
   "metadata": {},
   "outputs": [],
   "source": [
    " def activation():\n",
    "    activationWord = \"\"    \n",
    "    while activationWord not in activationWordsList :\n",
    "        activationWord=speechToText()\n",
    "    say(\"Hello Rishil\")"
   ]
  },
  {
   "cell_type": "markdown",
   "id": "2a233f06",
   "metadata": {},
   "source": [
    "### Constructing the knowledge Graph"
   ]
  },
  {
   "cell_type": "code",
   "execution_count": null,
   "id": "d93d6f00",
   "metadata": {},
   "outputs": [],
   "source": [
    "#declaring file name\n",
    "file = \"Knowledge.json\"\n",
    "\n",
    "#declaring a Directional Graph\n",
    "G = nx.DiGraph()\n",
    "\n",
    "#general declarations of varaibles required \n",
    "edgeList = list(list())\n",
    "nodesList = list(list())\n",
    "nodeColorList = list()\n",
    "edge_labels = dict()\n",
    "\n",
    "#reading json file \n",
    "with open (file,\"r\") as x:\n",
    "    data = json.load(x)\n",
    "    relationship = data[\"relationship\"]\n",
    "    nodes = data[\"nodes\"]\n",
    "    keywords = data[\"keywords\"]\n",
    "    activationWordsList = data[\"activation\"]\n",
    "    for i in relationship:\n",
    "        edgeList.append(i)\n",
    "    for i in nodes:\n",
    "        nodesList.append(i)\n",
    "\n",
    "\n",
    "\n",
    "#adding code and assigning colors according to node type\n",
    "for i in nodesList :\n",
    "    G.add_node(i[0],type = i[1],probable_location = i[2])\n",
    "    if(i[1]=='object') :\n",
    "        nodeColorList.append('green')\n",
    "    elif (i[1]=='property') :\n",
    "        nodeColorList.append('cyan')\n",
    "    else : nodeColorList.append('red')\n",
    "\n",
    "#adding edges       \n",
    "for i in edgeList :\n",
    "    G.add_edge(i[0],i[1],value=i[2])\n",
    "    edge_labels[(i[0],i[1])] = i[2]\n",
    "\n",
    "#declaring type of graph     \n",
    "pos = nx.spring_layout(G)\n",
    "\n",
    "#drawing methods \n",
    "nx.draw(G, pos, edge_color='black', width=1, linewidths=10,node_size=250, node_color=nodeColorList, alpha=0.9,with_labels=True)\n",
    "nx.draw_networkx_edge_labels(G,pos,edge_labels,label_pos=0.5)\n",
    "\n",
    "plt.show()"
   ]
  },
  {
   "cell_type": "markdown",
   "id": "3bd15da6",
   "metadata": {},
   "source": [
    "### Initiating the Voice assistant and understing the questions"
   ]
  },
  {
   "cell_type": "code",
   "execution_count": null,
   "id": "b0d69e73",
   "metadata": {
    "scrolled": true
   },
   "outputs": [],
   "source": [
    "while True:\n",
    "    activation()\n",
    "    convertedSpeechToText = \"\"\n",
    "    while convertedSpeechToText != \"thank you\" :\n",
    "        if convertedSpeechToText == \"\":\n",
    "            convertedSpeechToText = speechToText()\n",
    "        if convertedSpeechToText != \"thank you\" :\n",
    "            bestmatch = 0\n",
    "            for i in keywords.keys():\n",
    "                ratio = fuzz.ratio(convertedSpeechToText,i)\n",
    "                if ratio>bestmatch:\n",
    "                    bestmatch = ratio\n",
    "                    functionName = keywords[i]\n",
    "            if bestmatch<60:\n",
    "                #print(bestmatch)\n",
    "                functionName = \"Sorry I am Unable to understand\"\n",
    "            \n",
    "            #print(functionName,bestmatch)\n",
    "            functionCaller(functionName)\n",
    "            convertedSpeechToText = speechToText()"
   ]
  }
 ],
 "metadata": {
  "kernelspec": {
   "display_name": "Python 3 (ipykernel)",
   "language": "python",
   "name": "python3"
  },
  "language_info": {
   "codemirror_mode": {
    "name": "ipython",
    "version": 3
   },
   "file_extension": ".py",
   "mimetype": "text/x-python",
   "name": "python",
   "nbconvert_exporter": "python",
   "pygments_lexer": "ipython3",
   "version": "3.9.12"
  }
 },
 "nbformat": 4,
 "nbformat_minor": 5
}
